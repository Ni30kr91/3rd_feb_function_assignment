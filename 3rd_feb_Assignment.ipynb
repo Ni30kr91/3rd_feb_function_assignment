{
 "cells": [
  {
   "cell_type": "code",
   "execution_count": 424,
   "id": "4b112234-4525-4b9e-b592-8971b4c1c910",
   "metadata": {},
   "outputs": [],
   "source": [
    "'''(Q1). Which keyword is used to create a function? Create a function to return a list of odd numbers in the\n",
    "range of 1 to 25.'''\n",
    "\n",
    "# Ans-\"def\" keyword is used to create a function.\n",
    "\n",
    "l=[1,2,3,4,5,6,7,8,9,10,11,12,13,14,15,16,17,18,19,20,21,22,23,24,25]\n",
    "def list1(l):\n",
    "    n = []  \n",
    "    for i in range(1,25+1):\n",
    "        if i % 2 !=0:\n",
    "            n.append(i)\n",
    "    return n\n",
    "\n"
   ]
  },
  {
   "cell_type": "code",
   "execution_count": 423,
   "id": "52aa97c7-8267-44dc-bb5b-e88d3839b78a",
   "metadata": {},
   "outputs": [
    {
     "data": {
      "text/plain": [
       "[1, 3, 5, 7, 9, 11, 13, 15, 17, 19, 21, 23, 25]"
      ]
     },
     "execution_count": 423,
     "metadata": {},
     "output_type": "execute_result"
    }
   ],
   "source": [
    "list1(l)"
   ]
  },
  {
   "cell_type": "code",
   "execution_count": 6,
   "id": "84d2ac8f-80e1-4955-99c6-f5181715a255",
   "metadata": {},
   "outputs": [],
   "source": [
    "''' (Q2). Why *args and **kwargs is used in some functions? Create a function each for *args and **kwargs to\n",
    "demonstrate their use.'''\n",
    "\n",
    "# Ans- You can use *args(argument) and *kwargs (key with argument) as arguments of a function when you are unsure about the number of arguments to pass in the functions.\n",
    "#    Example of *arg  \n",
    "    \n",
    "def test14(*nitish):\n",
    "    l=[]\n",
    "    for i in nitish:\n",
    "        if type(i) == list:\n",
    "            l.append(i)\n",
    "    return l"
   ]
  },
  {
   "cell_type": "code",
   "execution_count": 7,
   "id": "e15d993d-3b29-4dac-a4df-573c27d96cc7",
   "metadata": {},
   "outputs": [
    {
     "data": {
      "text/plain": [
       "[[1, 2, 3, 4, 4], [4, 5, 6], [6, 7, 8]]"
      ]
     },
     "execution_count": 7,
     "metadata": {},
     "output_type": "execute_result"
    }
   ],
   "source": [
    "test14(1,2,3,[1,2,3,4,4],(1,2,3,4,4),\"Kumar\",[4,5,6],[6,7,8])"
   ]
  },
  {
   "cell_type": "code",
   "execution_count": 3,
   "id": "314bc1a2-66e9-4049-88b2-632e641a0441",
   "metadata": {},
   "outputs": [],
   "source": [
    "# Example of **kwargs.\n",
    "def test16(**kwargs):\n",
    "    for i in kwargs.keys():\n",
    "        if type(kwargs[i]) == list:\n",
    "            return i,kwargs[i]"
   ]
  },
  {
   "cell_type": "code",
   "execution_count": 4,
   "id": "ccbd0e92-9054-40d6-b33a-9f748eae380c",
   "metadata": {},
   "outputs": [
    {
     "data": {
      "text/plain": [
       "('c', [1, 2, 3, 4])"
      ]
     },
     "execution_count": 4,
     "metadata": {},
     "output_type": "execute_result"
    }
   ],
   "source": [
    "test16(a=34,b=23,c=[1,2,3,4],d=(\"Nitish\", \"Kumar\"))"
   ]
  },
  {
   "cell_type": "code",
   "execution_count": 2,
   "id": "83cff605-9d6d-41e7-be45-916e59baf8b2",
   "metadata": {},
   "outputs": [
    {
     "name": "stdout",
     "output_type": "stream",
     "text": [
      "2\n",
      "4\n",
      "6\n",
      "8\n",
      "10\n"
     ]
    }
   ],
   "source": [
    "''' (Q3). What is an iterator in python? Name the method used to initialise the iterator object and the method\n",
    "used for iteration. Use these methods to print the first five elements of the given list [2, 4, 6, 8, 10, 12, 14, 16,\n",
    "18, 20].'''\n",
    "\n",
    "# Ans-Iterator in Python is an object that is used to iterate over iterable objects like lists, tuples, dicts, and sets. The iterator object is initialized using the iter() method. It uses the next() method for iteration.\n",
    "\n",
    "lst = [2, 4, 6, 8, 10, 12, 14, 16, 18, 20]\n",
    "\n",
    "iterator_obj = iter(lst)                    \n",
    "\n",
    "for i in range(5):                           \n",
    "    print(next(iterator_obj))\n",
    "        \n",
    "\n",
    "\n"
   ]
  },
  {
   "cell_type": "code",
   "execution_count": 387,
   "id": "5c7c6d30-58ac-469d-bd80-da6c598d8058",
   "metadata": {},
   "outputs": [
    {
     "name": "stdout",
     "output_type": "stream",
     "text": [
      "0\n",
      "1\n",
      "1\n",
      "2\n",
      "3\n",
      "5\n",
      "8\n",
      "13\n",
      "21\n",
      "34\n"
     ]
    }
   ],
   "source": [
    "'''(Q4). What is a generator function in python? Why yield keyword is used? Give an example of a generator function.'''\n",
    "\n",
    "# Ans-A Python generator function allows you to declare a function that behaves like an iterator, providing a faster and easier way to create iterators.\n",
    "#     yield keyword is used to create a generator function. A type of function that is memory efficient and can be used like an iterator object.\n",
    "\n",
    "def test_fib(n):\n",
    "    a,b= 0,1\n",
    "    for i in range(n):\n",
    "        yield a\n",
    "        a,b = b,a+b\n",
    "test_fib(10)\n",
    "for i in test_fib(10):\n",
    "    print(i)\n",
    "    "
   ]
  },
  {
   "cell_type": "code",
   "execution_count": 321,
   "id": "98d82bc9-f213-44b0-9860-47085ea7ac2d",
   "metadata": {},
   "outputs": [
    {
     "name": "stdout",
     "output_type": "stream",
     "text": [
      "2\n",
      "3\n",
      "5\n",
      "7\n",
      "11\n",
      "13\n",
      "17\n",
      "19\n",
      "23\n",
      "29\n",
      "31\n",
      "37\n",
      "41\n",
      "43\n",
      "47\n",
      "53\n",
      "59\n",
      "61\n",
      "67\n",
      "71\n"
     ]
    }
   ],
   "source": [
    "# Q5. Create a generator function for prime numbers less than 1000. Use the next() method to print the\n",
    "#     first 20 prime numbers.\n",
    "\n",
    "\n",
    "def primes():\n",
    "    yield 2\n",
    "    primes_list = [2]\n",
    "    n = 3\n",
    "    while n < 1000:\n",
    "        is_prime = True\n",
    "        for p in primes_list:\n",
    "            if n % p == 0:\n",
    "                is_prime = False\n",
    "                break\n",
    "        if is_prime:\n",
    "            primes_list.append(n)\n",
    "            yield n\n",
    "        n += 2\n",
    "\n",
    "\n",
    "generator = primes()\n",
    "for i in range(20):\n",
    "    print(next(generator))"
   ]
  },
  {
   "cell_type": "code",
   "execution_count": null,
   "id": "1acec107-48e2-4085-ac43-94ebc01f9536",
   "metadata": {},
   "outputs": [],
   "source": []
  }
 ],
 "metadata": {
  "kernelspec": {
   "display_name": "Python 3 (ipykernel)",
   "language": "python",
   "name": "python3"
  },
  "language_info": {
   "codemirror_mode": {
    "name": "ipython",
    "version": 3
   },
   "file_extension": ".py",
   "mimetype": "text/x-python",
   "name": "python",
   "nbconvert_exporter": "python",
   "pygments_lexer": "ipython3",
   "version": "3.9.13"
  }
 },
 "nbformat": 4,
 "nbformat_minor": 5
}
